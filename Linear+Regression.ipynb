{
 "cells": [
  {
   "cell_type": "code",
   "execution_count": 297,
   "metadata": {
    "collapsed": true
   },
   "outputs": [],
   "source": [
    "import numpy as np\n",
    "import matplotlib.pyplot as plt\n",
    "import random"
   ]
  },
  {
   "cell_type": "code",
   "execution_count": 298,
   "metadata": {
    "collapsed": true
   },
   "outputs": [],
   "source": [
    "def cost(X,y,theta,alpha):\n",
    "    \n",
    "    X = np.c_[np.ones(len(X)), X]\n",
    "    m = len(X)\n",
    "    \n",
    "    h = X.dot(theta)\n",
    "    \n",
    "    diff = h-y\n",
    "\n",
    "    # sum((h-y)**2)\n",
    "    J = diff.dot(diff) / (2 * m)\n",
    "    gradient = (np.sum((h-y) * X.T,axis=1) / m) * alpha\n",
    "    \n",
    "    \n",
    "    return J,gradient"
   ]
  },
  {
   "cell_type": "code",
   "execution_count": 299,
   "metadata": {
    "collapsed": true
   },
   "outputs": [],
   "source": [
    "def gradient_descent(X, y, theta, alpha, iterations):\n",
    "    \n",
    "    J_History = []\n",
    "\n",
    "    for i in range(iterations) :\n",
    "    \n",
    "        J,gradient = cost(X,y,theta,alpha)\n",
    "\n",
    "        J_History.append(J)\n",
    "    \n",
    "        theta = theta-gradient\n",
    "        \n",
    "    return theta, J_History"
   ]
  },
  {
   "cell_type": "code",
   "execution_count": 300,
   "metadata": {
    "collapsed": true
   },
   "outputs": [],
   "source": [
    "def mean_normalization(X):\n",
    "    \n",
    "    \"\"\"-1 <= xn <= 1  Features have approximately 0 mean\"\"\"\n",
    "    \n",
    "    X = np.array(X)\n",
    "    \n",
    "    # can also use max(X) - min(X) here instead of np.std\n",
    "    range_X = np.std(X)\n",
    "    avg_X =  np.mean(X)\n",
    "    \n",
    "    X = (X-avg_X) / range_X\n",
    "\n",
    "    return X"
   ]
  },
  {
   "cell_type": "code",
   "execution_count": 301,
   "metadata": {},
   "outputs": [],
   "source": [
    "def getlinear(m,b):\n",
    "    \n",
    "    \"\"\"return a linear function with slope m and intercept b\"\"\"\n",
    "    \n",
    "    def f(x):\n",
    "        return m*x + b\n",
    "\n",
    "    return f\n"
   ]
  },
  {
   "cell_type": "code",
   "execution_count": 302,
   "metadata": {
    "collapsed": true
   },
   "outputs": [],
   "source": [
    "def getdata(f, xrange=30, erange=15):\n",
    "\n",
    "    \"\"\"Generate some linear data with x from 0-xrange with errors +- erange\"\"\"\n",
    "    x=[i for i in range(xrange)]\n",
    "    \n",
    "    y = map(f,x)\n",
    "    y = [z + random.uniform(-erange,erange) for z in y]\n",
    "    \n",
    "    return np.array(x), np.array(y)"
   ]
  },
  {
   "cell_type": "code",
   "execution_count": 303,
   "metadata": {},
   "outputs": [
    {
     "data": {
      "image/png": "[encoded data removed]",
      "text/plain": [
       "<Figure size 432x288 with 1 Axes>"
      ]
     },
     "metadata": {},
     "output_type": "display_data"
    }
   ],
   "source": [
    "slope = 5\n",
    "intercept = 10\n",
    "\n",
    "X,y = getdata(getlinear(slope, intercept), xrange=30, erange=15)\n",
    "\n",
    "plt.scatter(X,y,c='b')\n",
    "\n",
    "linespace = np.linspace(min(X), max(X))\n",
    "#plt.plot(linespace, slope*linespace + intercept, c='r')\n",
    "\n",
    "plt.show()\n"
   ]
  },
  {
   "cell_type": "code",
   "execution_count": null,
   "metadata": {
    "collapsed": true
   },
   "outputs": [],
   "source": []
  },
  {
   "cell_type": "code",
   "execution_count": 304,
   "metadata": {},
   "outputs": [],
   "source": [
    "alpha = .03  #learning rate\n",
    "theta = np.array([1,1])\n",
    "iterations = 5500\n",
    "\n",
    "X_orig = X\n",
    "X = mean_normalization(X)\n",
    "\n",
    "theta, J_History = gradient_descent(X,y,theta,alpha,iterations)"
   ]
  },
  {
   "cell_type": "code",
   "execution_count": 305,
   "metadata": {},
   "outputs": [
    {
     "data": {
      "image/png": "[encoded data removed]",
      "text/plain": [
       "<Figure size 432x288 with 1 Axes>"
      ]
     },
     "metadata": {},
     "output_type": "display_data"
    }
   ],
   "source": [
    "jspace = np.linspace(1,iterations,iterations)\n",
    "plt.xlabel('Iterations')\n",
    "plt.ylabel(\"J(theta) (Cost function)\")\n",
    "plt.plot(jspace, J_History)\n",
    "plt.show()"
   ]
  },
  {
   "cell_type": "code",
   "execution_count": 306,
   "metadata": {},
   "outputs": [
    {
     "data": {
      "image/png": "[encoded data removed]",
      "text/plain": [
       "<Figure size 432x288 with 1 Axes>"
      ]
     },
     "metadata": {},
     "output_type": "display_data"
    }
   ],
   "source": [
    "xspace = np.linspace(min(X), max(X))\n",
    "plt.plot(xspace, theta[1] * xspace + theta[0], c='r')\n",
    "\n",
    "plt.scatter(X,y,c='b')\n",
    "plt.show()"
   ]
  },
  {
   "cell_type": "code",
   "execution_count": 307,
   "metadata": {},
   "outputs": [
    {
     "name": "stdout",
     "output_type": "stream",
     "text": [
      "Closed soln:  [[82.2987866  42.41523378]]\n",
      "Gradient Descent:  [82.2987866  42.41523378]\n",
      "Difference:  [[2.4158453e-13 1.0658141e-13]]\n"
     ]
    }
   ],
   "source": [
    "xx = np.matrix(np.c_[np.ones(len(X)),X])\n",
    "A = (xx.T * xx).I\n",
    "\n",
    "closed = A * xx.T * np.matrix(y).T\n",
    "print (\"Closed soln: \", closed.T)\n",
    "print (\"Gradient Descent: \" , theta)\n",
    "print (\"Difference: \" , closed.T-theta)\n",
    "\n"
   ]
  },
  {
   "cell_type": "code",
   "execution_count": 308,
   "metadata": {},
   "outputs": [
    {
     "name": "stdout",
     "output_type": "stream",
     "text": [
      "Slope:  4.90041253670307\n",
      "Intercept:  11.242804814674969\n"
     ]
    }
   ],
   "source": [
    "slope = theta[1] / np.std(X_orig)\n",
    "print (\"Slope: \", slope)\n",
    "intercept = theta[0] - (theta[1] * (np.mean(X_orig)/np.std(X_orig)))\n",
    "print (\"Intercept: \", intercept)"
   ]
  },
  {
   "cell_type": "code",
   "execution_count": 309,
   "metadata": {},
   "outputs": [
    {
     "name": "stdout",
     "output_type": "stream",
     "text": [
      "Closed (orig):  [[11.24280481  4.90041254]]\n",
      "New theta:  [[11.24280481  4.90041254]]\n",
      "Difference:  [[6.92779167e-14 1.33226763e-14]]\n"
     ]
    }
   ],
   "source": [
    "xx = np.matrix(np.c_[np.ones(len(X_orig)),X_orig])\n",
    "A = (xx.T * xx).I\n",
    "closed = A * xx.T * np.matrix(y).T\n",
    "newtheta = np.matrix([intercept,slope])\n",
    "print(\"Closed (orig): \", closed.T)\n",
    "print(\"New theta: \", newtheta)\n",
    "print (\"Difference: \", closed.T-newtheta)"
   ]
  },
  {
   "cell_type": "code",
   "execution_count": 310,
   "metadata": {},
   "outputs": [
    {
     "data": {
      "image/png": "[encoded data removed]",
      "text/plain": [
       "<Figure size 432x288 with 1 Axes>"
      ]
     },
     "metadata": {},
     "output_type": "display_data"
    }
   ],
   "source": [
    "plt.scatter(X_orig,y,c='b')\n",
    "\n",
    "linespace = np.linspace(min(X_orig), max(X_orig))\n",
    "plt.plot(linespace, slope*linespace + intercept, c='r')\n",
    "plt.show()"
   ]
  },
  {
   "cell_type": "code",
   "execution_count": null,
   "metadata": {
    "collapsed": true
   },
   "outputs": [],
   "source": []
  }
 ],
 "metadata": {
  "anaconda-cloud": {},
  "kernelspec": {
   "display_name": "Python [conda env:nb35]",
   "language": "python",
   "name": "conda-env-nb35-py"
  },
  "language_info": {
   "codemirror_mode": {
    "name": "ipython",
    "version": 3
   },
   "file_extension": ".py",
   "mimetype": "text/x-python",
   "name": "python",
   "nbconvert_exporter": "python",
   "pygments_lexer": "ipython3",
   "version": "3.5.3"
  }
 },
 "nbformat": 4,
 "nbformat_minor": 2
}
